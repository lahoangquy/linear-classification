{
  "nbformat": 4,
  "nbformat_minor": 0,
  "metadata": {
    "colab": {
      "provenance": []
    },
    "kernelspec": {
      "name": "python3",
      "display_name": "Python 3"
    },
    "language_info": {
      "name": "python"
    }
  },
  "cells": [
    {
      "cell_type": "markdown",
      "source": [
        "Linear classification in support vector machine (SVM) is a method of separating 2 classes of data using a linear dedcision boundary. The linear decision boundary is a line or hyperplane in the feature space that separates the data points of various classes.\n",
        "\n",
        "To performe linear classification using svm, the algorithm treies to find the hyperplane to maximizes the margin between 2 classes of datapoints, the margin is the distance between the hyperplane and the closest data point of each class. The hyperplnae that maximizes this margin is chosen as the decision boundary.\n",
        "\n",
        "The SVM algorithm works by find a set of support vectors which are the data points closet to the decision boundary. These support vectors are used to define the decision boundary and classify new data points.\n",
        "\n",
        "Linear classification using SVM is effective for datasets where the classes can be separated by a straight line or hyperplnae. However, for datasets that are not linearly separable, other techniques such as kernel emthods can be used to trasnform the data into a higher dimensional space where linear separation is possible."
      ],
      "metadata": {
        "id": "eSleYBP9uS9g"
      }
    },
    {
      "cell_type": "code",
      "execution_count": null,
      "metadata": {
        "id": "yTsWi4A2t9ao"
      },
      "outputs": [],
      "source": []
    }
  ]
}